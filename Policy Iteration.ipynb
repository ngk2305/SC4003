{
 "cells": [
  {
   "cell_type": "markdown",
   "id": "af2aade9",
   "metadata": {},
   "source": [
    "# Policy Iteration\n"
   ]
  },
  {
   "cell_type": "markdown",
   "id": "a4d2c06d",
   "metadata": {},
   "source": [
    "## I. Core Functions\n",
    "### We want to have utility functions that can help us transitioning between states and get rewards from an action.\n",
    "### We also want to calculate the expected utility of an action given transition-reward dynamics."
   ]
  },
  {
   "cell_type": "code",
   "execution_count": 1,
   "id": "da3fc485",
   "metadata": {},
   "outputs": [],
   "source": [
    "import matplotlib.pyplot as plt\n",
    "import numpy as np\n",
    "\n",
    "# 'g' stands for green (+1)\n",
    "# '0' stands for white (-0.04)\n",
    "# 'b' stands for brown (-1)\n",
    "# 'w' stands for walls (Wall)\n",
    "# 's' stands for start (Start)\n",
    "\n",
    "#get reward from symbol\n",
    "def get_reward(position,map):\n",
    "    symbol = map[position[0]][position[1]]\n",
    "    if symbol=='g':    \n",
    "            return 1\n",
    "    elif symbol=='0':    \n",
    "            return -0.04\n",
    "    elif symbol=='b':    \n",
    "            return -1\n",
    "    else:\n",
    "            return 0\n",
    "\n",
    "#get possible action from position\n",
    "def get_value(position,state_value):\n",
    "\n",
    "    return state_value[position[0]][position[1]]\n",
    "\n",
    "#get destination from position and action\n",
    "def get_destination(position,action,map):\n",
    "\n",
    "    if (position[0]+action[0] < 0) or (position[0]+action[0] > 5) or (position[1]+action[1] < 0) or (position[1]+action[1] > 5) or  map[position[0]+action[0]][position[1]+action[1]]=='w':\n",
    "        new_position= position\n",
    "    else:\n",
    "        new_position = [position[0] + action[0], position[1] + action[1]]\n",
    "\n",
    "    return new_position\n",
    "\n",
    "\n",
    "def value_of_action(position,action,map):\n",
    "    if action[0] == 0:\n",
    "        action1 = [1 ,0]\n",
    "        action2 = [-1,0]\n",
    "    else:\n",
    "        action1 = [0 , 1]\n",
    "        action2 = [0 ,-1]\n",
    "\n",
    "    straight_value = get_value(get_destination(position,action,map),state_value)*GAMMA + get_reward(get_destination(position,action,map),map)\n",
    "    turn_value1 = get_value(get_destination(position,action1,map),state_value)*GAMMA + get_reward(get_destination(position,action1,map),map)\n",
    "    turn_value2 = get_value(get_destination(position, action2, map),state_value)*GAMMA + get_reward(get_destination(position,action2,map),map)\n",
    "\n",
    "    average_value = straight_value*0.8 + (turn_value1 + turn_value2)*0.1\n",
    "    \n",
    "    #Value of action Q(s,a) = Sigma[ p(r,s')* (V(s')*GAMMA + r(s,a) ]\n",
    "    \n",
    "    return average_value\n"
   ]
  },
  {
   "cell_type": "markdown",
   "id": "993f6eff",
   "metadata": {},
   "source": [
    "## II. Graphics Functions\n",
    "### These are graphics functions that will help us print out tables later."
   ]
  },
  {
   "cell_type": "code",
   "execution_count": 2,
   "id": "0c23f68f",
   "metadata": {},
   "outputs": [],
   "source": [
    "def display_2d_list_with_highlight(matrix, highlight_index):\n",
    "    cmap = plt.cm.get_cmap(\"viridis\").copy()\n",
    "    cmap.set_bad(color='grey')  # Set color for highlighted element\n",
    "\n",
    "    highlighted_matrix = np.array(matrix, dtype=float)\n",
    "    \n",
    "    for highlighted_index in highlight_index:\n",
    "        highlighted_matrix[highlighted_index[0], highlighted_index[1]] = np.nan\n",
    "        \n",
    "    plt.imshow(highlighted_matrix, cmap=cmap, interpolation='nearest', vmin=np.nanmin(matrix), vmax=np.nanmax(matrix))\n",
    "    plt.title(\"Utility Map through Iterations\")\n",
    "    plt.colorbar()\n",
    "    plt.show()\n",
    "\n",
    "\n",
    "def get_wall_list(map):\n",
    "    wall_list=[]\n",
    "    for row in range(6):\n",
    "        for column in range(6):\n",
    "            if map[row][column] == 'w':\n",
    "                wall_list.append([row,column])\n",
    "    return wall_list\n",
    "\n",
    "def print_state_utility(state_value,wall_list):\n",
    "    for row in range(6):\n",
    "        for column in range(6):\n",
    "            if [row,column] in wall_list:\n",
    "                print('Wall',end = '\\t')\n",
    "            else:\n",
    "                print(state_value[row][column], end=\"\\t\")  \n",
    "        print()  \n",
    "\n",
    "def print_policy(policy_table,wall_list):\n",
    "    for row in range(6):\n",
    "        for column in range(6):\n",
    "            element = policy_table[row][column]\n",
    "    \n",
    "            if [row,column] in wall_list:\n",
    "                print('Wall',end = '\\t')\n",
    "                continue\n",
    "            elif element == [0,-1]:\n",
    "                action = 'Left'\n",
    "            elif element == [0,1]:\n",
    "                action = 'Right'\n",
    "            elif element == [-1, 0 ]:\n",
    "                action = 'Up'\n",
    "            else:\n",
    "                action = 'Down'\n",
    "            print(action,end=\"\\t\")  \n",
    "        print()          \n",
    "        \n",
    "#########################################\n"
   ]
  },
  {
   "cell_type": "markdown",
   "id": "05bd77e4",
   "metadata": {},
   "source": [
    "## III. Problem-specific data\n",
    "### Here we input our map layout, as well as initializing utility table and policy table.\n",
    "### We also get our discount factor and accuracy threshold variable for later iterations."
   ]
  },
  {
   "cell_type": "code",
   "execution_count": 3,
   "id": "3cb60c95",
   "metadata": {},
   "outputs": [],
   "source": [
    "# (row,column) format\n",
    "\n",
    "map= [\n",
    "    ['g','w','g','0','0','g'],\n",
    "    ['0','b','0','g','w','b'],\n",
    "    ['0','0','b','0','g','0'],\n",
    "    ['0','0','s','b','0','g'],\n",
    "    ['0','w','w','w','b','0'],\n",
    "    ['0','0','0','0','0','0'],\n",
    "    ]\n",
    "\n",
    "#initialize_state_value table\n",
    "state_value = [[0]*6 for i in range(6)]\n",
    "\n",
    "#initialize policy table\n",
    "policy_table = [[[0,1] for k in range(6)] for j in range(6)]\n",
    "\n",
    "#accuracy threshold variable\n",
    "THETA = 0.01\n",
    "\n",
    "#Discount factor\n",
    "GAMMA = 0.99\n",
    "\n",
    "#Possible Action\n",
    "action = [\n",
    "    [0,1], [0,-1], [1,0], [-1,0]\n",
    "]"
   ]
  },
  {
   "cell_type": "markdown",
   "id": "9f0d5bdf",
   "metadata": {},
   "source": [
    "## IV. Policy Iteration:\n",
    "### While the policy is not stable (still changes after an interation):\n",
    "###     + Iterate through utility table until error of the table goes under the accuracy threshold (Policy Evaluation)\n",
    "###     + Update the policy to make the best action according to the utility table in each state (Policy Improvement)"
   ]
  },
  {
   "cell_type": "code",
   "execution_count": 4,
   "id": "1cc3a300",
   "metadata": {},
   "outputs": [
    {
     "data": {
      "image/png": "[encoded data removed]",
      "text/plain": [
       "<Figure size 432x288 with 2 Axes>"
      ]
     },
     "metadata": {
      "needs_background": "light"
     },
     "output_type": "display_data"
    },
    {
     "data": {
      "image/png": "[encoded data removed]",
      "text/plain": [
       "<Figure size 432x288 with 2 Axes>"
      ]
     },
     "metadata": {
      "needs_background": "light"
     },
     "output_type": "display_data"
    },
    {
     "data": {
      "image/png": "[encoded data removed]",
      "text/plain": [
       "<Figure size 432x288 with 2 Axes>"
      ]
     },
     "metadata": {
      "needs_background": "light"
     },
     "output_type": "display_data"
    },
    {
     "data": {
      "image/png": "[encoded data removed]",
      "text/plain": [
       "<Figure size 432x288 with 2 Axes>"
      ]
     },
     "metadata": {
      "needs_background": "light"
     },
     "output_type": "display_data"
    },
    {
     "data": {
      "image/png": "[encoded data removed]",
      "text/plain": [
       "<Figure size 432x288 with 2 Axes>"
      ]
     },
     "metadata": {
      "needs_background": "light"
     },
     "output_type": "display_data"
    },
    {
     "data": {
      "image/png": "[encoded data removed]",
      "text/plain": [
       "<Figure size 432x288 with 2 Axes>"
      ]
     },
     "metadata": {
      "needs_background": "light"
     },
     "output_type": "display_data"
    },
    {
     "data": {
      "image/png": "[encoded data removed]",
      "text/plain": [
       "<Figure size 432x288 with 2 Axes>"
      ]
     },
     "metadata": {
      "needs_background": "light"
     },
     "output_type": "display_data"
    },
    {
     "data": {
      "image/png": "[encoded data removed]",
      "text/plain": [
       "<Figure size 432x288 with 2 Axes>"
      ]
     },
     "metadata": {
      "needs_background": "light"
     },
     "output_type": "display_data"
    },
    {
     "name": "stdout",
     "output_type": "stream",
     "text": [
      "The number of iteration is: 8\n",
      "826\n"
     ]
    }
   ],
   "source": [
    "policy_stable_flag = False\n",
    "iteration_till_convergence=0\n",
    "state_sweep_count=0\n",
    "while not policy_stable_flag:\n",
    "    #maximum error variable\n",
    "    ERROR = 1\n",
    "    while ERROR > THETA:\n",
    "    #for i in range(30):\n",
    "        ERROR = 0\n",
    "        for row in range(6):\n",
    "            for column in range(6):\n",
    "\n",
    "                old_v = get_value([row,column],state_value)\n",
    "\n",
    "                #update state_value\n",
    "\n",
    "                state_value[row][column] = value_of_action([row,column],policy_table[row][column],map)\n",
    "\n",
    "                ERROR = max(ERROR,abs(old_v - state_value[row][column]))\n",
    "        state_sweep_count+=1\n",
    "    #policy improvement\n",
    "    policy_stable_flag = True\n",
    "    for row in range(6):\n",
    "        for column in range(6):\n",
    "            old_action = policy_table[row][column]\n",
    "            max_value= float('-inf')\n",
    "            for a in action:\n",
    "                a_value = value_of_action([row,column],a,map)\n",
    "                if a_value >= max_value:\n",
    "                    max_value = a_value\n",
    "                    new_action = a\n",
    "            policy_table[row][column] = new_action\n",
    "            if old_action != new_action:\n",
    "                policy_stable_flag = False\n",
    "    iteration_till_convergence+=1\n",
    "    display_2d_list_with_highlight(state_value, get_wall_list(map))\n",
    "    \n",
    "print('The number of iteration is:',iteration_till_convergence)\n",
    "print(state_sweep_count)"
   ]
  },
  {
   "cell_type": "markdown",
   "id": "62f91908",
   "metadata": {},
   "source": [
    "## Final Utility Table\n",
    "### Utility values might not be very accurate because Policy Iteration stops when policy is stable"
   ]
  },
  {
   "cell_type": "code",
   "execution_count": 5,
   "id": "70ade103",
   "metadata": {},
   "outputs": [
    {
     "name": "stdout",
     "output_type": "stream",
     "text": [
      "99.75304562220799\tWall\t94.75438125356943\t94.6253260058442\t93.39492280578024\t93.00578788792929\t\n",
      "99.18350012968453\t97.62027255539087\t95.30222624966754\t94.10563174854715\tWall\t92.59300196613933\t\n",
      "97.7268208350801\t96.3536718212803\t95.01538385668596\t93.92536219211324\t92.8026691714278\t92.53230082936216\t\n",
      "96.3207837831786\t95.21069700349736\t93.98575040409669\t92.82030187796111\t92.5548035206325\t91.57838745634099\t\n",
      "95.06931200743783\tWall\tWall\tWall\t91.23737336673057\t91.29649426067161\t\n",
      "93.68303221028975\t92.464462550738\t91.26109279398436\t90.07273335738238\t89.28033711480165\t90.01671363478746\t\n"
     ]
    }
   ],
   "source": [
    "print_state_utility(state_value,get_wall_list(map))"
   ]
  },
  {
   "cell_type": "markdown",
   "id": "db9d288a",
   "metadata": {},
   "source": [
    "## Final Policy Table"
   ]
  },
  {
   "cell_type": "code",
   "execution_count": 6,
   "id": "d40fe9a4",
   "metadata": {},
   "outputs": [
    {
     "name": "stdout",
     "output_type": "stream",
     "text": [
      "Up\tWall\tLeft\tLeft\tLeft\tUp\t\n",
      "Up\tLeft\tLeft\tLeft\tWall\tUp\t\n",
      "Up\tLeft\tLeft\tUp\tLeft\tLeft\t\n",
      "Up\tLeft\tLeft\tLeft\tUp\tUp\t\n",
      "Up\tWall\tWall\tWall\tUp\tUp\t\n",
      "Up\tLeft\tLeft\tLeft\tUp\tUp\t\n"
     ]
    }
   ],
   "source": [
    "print_policy(policy_table,get_wall_list(map))"
   ]
  },
  {
   "cell_type": "code",
   "execution_count": null,
   "id": "bca3d8d8",
   "metadata": {},
   "outputs": [],
   "source": []
  }
 ],
 "metadata": {
  "kernelspec": {
   "display_name": "Python 3 (ipykernel)",
   "language": "python",
   "name": "python3"
  },
  "language_info": {
   "codemirror_mode": {
    "name": "ipython",
    "version": 3
   },
   "file_extension": ".py",
   "mimetype": "text/x-python",
   "name": "python",
   "nbconvert_exporter": "python",
   "pygments_lexer": "ipython3",
   "version": "3.9.7"
  }
 },
 "nbformat": 4,
 "nbformat_minor": 5
}
